{
 "cells": [
  {
   "cell_type": "code",
   "execution_count": 1,
   "metadata": {},
   "outputs": [
    {
     "name": "stdout",
     "output_type": "stream",
     "text": [
      "using Keras version: 2.2.4-tf\n"
     ]
    }
   ],
   "source": [
    "import ktrain\n",
    "from ktrain import text\n",
    "import pandas as pd"
   ]
  },
  {
   "cell_type": "code",
   "execution_count": 2,
   "metadata": {},
   "outputs": [],
   "source": [
    "import tensorflow as tf"
   ]
  },
  {
   "cell_type": "code",
   "execution_count": 3,
   "metadata": {},
   "outputs": [],
   "source": [
    "%reload_ext autoreload\n",
    "%autoreload 2\n",
    "%matplotlib inline\n",
    "import os\n",
    "os.environ[\"CUDA_DEVICE_ORDER\"]=\"PCI_BUS_ID\";\n",
    "os.environ[\"CUDA_VISIBLE_DEVICES\"]=\"0\"; "
   ]
  },
  {
   "cell_type": "code",
   "execution_count": 4,
   "metadata": {},
   "outputs": [],
   "source": [
    "df_train = pd.read_csv('../../data/eduskunta-vkk/train.csv')\n",
    "df_dev = pd.read_csv('../../data/eduskunta-vkk/dev.csv')\n",
    "df_test = pd.read_csv('../../data/eduskunta-vkk/test.csv')\n",
    "#df_test = None\n"
   ]
  },
  {
   "cell_type": "code",
   "execution_count": 5,
   "metadata": {},
   "outputs": [],
   "source": [
    "#labels_to_keep = ['__label__Terveys', '__label__Talous','__label__Lemmikit','__label__Urheilu ja kuntoilu','__label__Matkailu']\n",
    "\n",
    "#df = df[df.label.isin(labels_to_keep)]\n",
    "#g = df.groupby('label')\n",
    "\n",
    "#df = pd.DataFrame(g.apply(lambda x: x.sample(g.size().min()).reset_index(drop=True)))"
   ]
  },
  {
   "cell_type": "code",
   "execution_count": 6,
   "metadata": {},
   "outputs": [],
   "source": [
    "#df['text_and_title'] = df['text_and_title'].fillna('NA')"
   ]
  },
  {
   "cell_type": "code",
   "execution_count": 7,
   "metadata": {},
   "outputs": [],
   "source": [
    "df_train.rename(columns={'sentence':'text','ministry':'label'}, inplace=True)\n",
    "df_dev.rename(columns={'sentence':'text','ministry':'label'}, inplace=True)\n",
    "df_test.rename(columns={'sentence':'text','ministry':'label'}, inplace=True)"
   ]
  },
  {
   "cell_type": "code",
   "execution_count": 8,
   "metadata": {},
   "outputs": [
    {
     "data": {
      "text/html": [
       "<div>\n",
       "<style scoped>\n",
       "    .dataframe tbody tr th:only-of-type {\n",
       "        vertical-align: middle;\n",
       "    }\n",
       "\n",
       "    .dataframe tbody tr th {\n",
       "        vertical-align: top;\n",
       "    }\n",
       "\n",
       "    .dataframe thead th {\n",
       "        text-align: right;\n",
       "    }\n",
       "</style>\n",
       "<table border=\"1\" class=\"dataframe\">\n",
       "  <thead>\n",
       "    <tr style=\"text-align: right;\">\n",
       "      <th></th>\n",
       "      <th>text</th>\n",
       "      <th>label</th>\n",
       "    </tr>\n",
       "  </thead>\n",
       "  <tbody>\n",
       "    <tr>\n",
       "      <th>0</th>\n",
       "      <td>Niistä pitkäaikaissairaista ja vammaisista hen...</td>\n",
       "      <td>oikeus- ja työministeri</td>\n",
       "    </tr>\n",
       "    <tr>\n",
       "      <th>1</th>\n",
       "      <td>Turvapaikkapuhuttelussa hakijan perusteet selv...</td>\n",
       "      <td>sisäministeri</td>\n",
       "    </tr>\n",
       "    <tr>\n",
       "      <th>2</th>\n",
       "      <td>Tästä on myös esimerkiksi kuluttajariitalautak...</td>\n",
       "      <td>oikeus- ja työministeri</td>\n",
       "    </tr>\n",
       "    <tr>\n",
       "      <th>3</th>\n",
       "      <td>Tietojen perusteella on havaittu että kehittäm...</td>\n",
       "      <td>liikenne- ja viestintäministeri</td>\n",
       "    </tr>\n",
       "    <tr>\n",
       "      <th>4</th>\n",
       "      <td>Suomen Lontoon suurlähetystö seuraa tilannetta...</td>\n",
       "      <td>sisäministeri</td>\n",
       "    </tr>\n",
       "  </tbody>\n",
       "</table>\n",
       "</div>"
      ],
      "text/plain": [
       "                                                text  \\\n",
       "0  Niistä pitkäaikaissairaista ja vammaisista hen...   \n",
       "1  Turvapaikkapuhuttelussa hakijan perusteet selv...   \n",
       "2  Tästä on myös esimerkiksi kuluttajariitalautak...   \n",
       "3  Tietojen perusteella on havaittu että kehittäm...   \n",
       "4  Suomen Lontoon suurlähetystö seuraa tilannetta...   \n",
       "\n",
       "                             label  \n",
       "0          oikeus- ja työministeri  \n",
       "1                    sisäministeri  \n",
       "2          oikeus- ja työministeri  \n",
       "3  liikenne- ja viestintäministeri  \n",
       "4                    sisäministeri  "
      ]
     },
     "execution_count": 8,
     "metadata": {},
     "output_type": "execute_result"
    }
   ],
   "source": [
    "df_test.head()"
   ]
  },
  {
   "cell_type": "code",
   "execution_count": 9,
   "metadata": {},
   "outputs": [],
   "source": [
    "#df = df[['label','text_and_title']]"
   ]
  },
  {
   "cell_type": "code",
   "execution_count": 10,
   "metadata": {},
   "outputs": [],
   "source": [
    "df_train = pd.concat([df_train, df_train.label.astype('str').str.get_dummies()], axis=1, sort=False)\n",
    "df_dev = pd.concat([df_dev, df_dev.label.astype('str').str.get_dummies()], axis=1, sort=False)\n"
   ]
  },
  {
   "cell_type": "code",
   "execution_count": 11,
   "metadata": {},
   "outputs": [
    {
     "data": {
      "text/html": [
       "<div>\n",
       "<style scoped>\n",
       "    .dataframe tbody tr th:only-of-type {\n",
       "        vertical-align: middle;\n",
       "    }\n",
       "\n",
       "    .dataframe tbody tr th {\n",
       "        vertical-align: top;\n",
       "    }\n",
       "\n",
       "    .dataframe thead th {\n",
       "        text-align: right;\n",
       "    }\n",
       "</style>\n",
       "<table border=\"1\" class=\"dataframe\">\n",
       "  <thead>\n",
       "    <tr style=\"text-align: right;\">\n",
       "      <th></th>\n",
       "      <th>text</th>\n",
       "      <th>label</th>\n",
       "      <th>elinkeinoministeri</th>\n",
       "      <th>eurooppa-, kulttuuri- ja urheiluministeri</th>\n",
       "      <th>kunta- ja uudistusministeri</th>\n",
       "      <th>liikenne- ja viestintäministeri</th>\n",
       "      <th>maatalous- ja ympäristöministeri</th>\n",
       "      <th>oikeus- ja työministeri</th>\n",
       "      <th>opetus- ja kulttuuriministeri</th>\n",
       "      <th>perhe- ja peruspalveluministeri</th>\n",
       "      <th>puolustusministeri</th>\n",
       "      <th>pääministeri</th>\n",
       "      <th>sisäministeri</th>\n",
       "      <th>sosiaali- ja terveysministeri</th>\n",
       "      <th>ulkomaankauppa- ja kehitysministeri</th>\n",
       "      <th>ulkoministeri</th>\n",
       "      <th>valtiovarainministeri</th>\n",
       "    </tr>\n",
       "  </thead>\n",
       "  <tbody>\n",
       "    <tr>\n",
       "      <th>0</th>\n",
       "      <td>Nykyisessä käytännössä voi siten syntyä tilant...</td>\n",
       "      <td>valtiovarainministeri</td>\n",
       "      <td>0</td>\n",
       "      <td>0</td>\n",
       "      <td>0</td>\n",
       "      <td>0</td>\n",
       "      <td>0</td>\n",
       "      <td>0</td>\n",
       "      <td>0</td>\n",
       "      <td>0</td>\n",
       "      <td>0</td>\n",
       "      <td>0</td>\n",
       "      <td>0</td>\n",
       "      <td>0</td>\n",
       "      <td>0</td>\n",
       "      <td>0</td>\n",
       "      <td>1</td>\n",
       "    </tr>\n",
       "    <tr>\n",
       "      <th>1</th>\n",
       "      <td>Lisäksi korkein hallinto-oikeus katsoi , että ...</td>\n",
       "      <td>sosiaali- ja terveysministeri</td>\n",
       "      <td>0</td>\n",
       "      <td>0</td>\n",
       "      <td>0</td>\n",
       "      <td>0</td>\n",
       "      <td>0</td>\n",
       "      <td>0</td>\n",
       "      <td>0</td>\n",
       "      <td>0</td>\n",
       "      <td>0</td>\n",
       "      <td>0</td>\n",
       "      <td>0</td>\n",
       "      <td>1</td>\n",
       "      <td>0</td>\n",
       "      <td>0</td>\n",
       "      <td>0</td>\n",
       "    </tr>\n",
       "    <tr>\n",
       "      <th>2</th>\n",
       "      <td>Toissijaisuuden arviointi jää viime kädessä tu...</td>\n",
       "      <td>liikenne- ja viestintäministeri</td>\n",
       "      <td>0</td>\n",
       "      <td>0</td>\n",
       "      <td>0</td>\n",
       "      <td>1</td>\n",
       "      <td>0</td>\n",
       "      <td>0</td>\n",
       "      <td>0</td>\n",
       "      <td>0</td>\n",
       "      <td>0</td>\n",
       "      <td>0</td>\n",
       "      <td>0</td>\n",
       "      <td>0</td>\n",
       "      <td>0</td>\n",
       "      <td>0</td>\n",
       "      <td>0</td>\n",
       "    </tr>\n",
       "    <tr>\n",
       "      <th>3</th>\n",
       "      <td>Kiire tai sen tunne usein kasvavat .</td>\n",
       "      <td>perhe- ja peruspalveluministeri</td>\n",
       "      <td>0</td>\n",
       "      <td>0</td>\n",
       "      <td>0</td>\n",
       "      <td>0</td>\n",
       "      <td>0</td>\n",
       "      <td>0</td>\n",
       "      <td>0</td>\n",
       "      <td>1</td>\n",
       "      <td>0</td>\n",
       "      <td>0</td>\n",
       "      <td>0</td>\n",
       "      <td>0</td>\n",
       "      <td>0</td>\n",
       "      <td>0</td>\n",
       "      <td>0</td>\n",
       "    </tr>\n",
       "    <tr>\n",
       "      <th>4</th>\n",
       "      <td>Vähittäiskaupat voivat myös perustuslain turva...</td>\n",
       "      <td>maatalous- ja ympäristöministeri</td>\n",
       "      <td>0</td>\n",
       "      <td>0</td>\n",
       "      <td>0</td>\n",
       "      <td>0</td>\n",
       "      <td>1</td>\n",
       "      <td>0</td>\n",
       "      <td>0</td>\n",
       "      <td>0</td>\n",
       "      <td>0</td>\n",
       "      <td>0</td>\n",
       "      <td>0</td>\n",
       "      <td>0</td>\n",
       "      <td>0</td>\n",
       "      <td>0</td>\n",
       "      <td>0</td>\n",
       "    </tr>\n",
       "  </tbody>\n",
       "</table>\n",
       "</div>"
      ],
      "text/plain": [
       "                                                text  \\\n",
       "0  Nykyisessä käytännössä voi siten syntyä tilant...   \n",
       "1  Lisäksi korkein hallinto-oikeus katsoi , että ...   \n",
       "2  Toissijaisuuden arviointi jää viime kädessä tu...   \n",
       "3               Kiire tai sen tunne usein kasvavat .   \n",
       "4  Vähittäiskaupat voivat myös perustuslain turva...   \n",
       "\n",
       "                              label  elinkeinoministeri  \\\n",
       "0             valtiovarainministeri                   0   \n",
       "1     sosiaali- ja terveysministeri                   0   \n",
       "2   liikenne- ja viestintäministeri                   0   \n",
       "3   perhe- ja peruspalveluministeri                   0   \n",
       "4  maatalous- ja ympäristöministeri                   0   \n",
       "\n",
       "   eurooppa-, kulttuuri- ja urheiluministeri  kunta- ja uudistusministeri  \\\n",
       "0                                          0                            0   \n",
       "1                                          0                            0   \n",
       "2                                          0                            0   \n",
       "3                                          0                            0   \n",
       "4                                          0                            0   \n",
       "\n",
       "   liikenne- ja viestintäministeri  maatalous- ja ympäristöministeri  \\\n",
       "0                                0                                 0   \n",
       "1                                0                                 0   \n",
       "2                                1                                 0   \n",
       "3                                0                                 0   \n",
       "4                                0                                 1   \n",
       "\n",
       "   oikeus- ja työministeri  opetus- ja kulttuuriministeri  \\\n",
       "0                        0                              0   \n",
       "1                        0                              0   \n",
       "2                        0                              0   \n",
       "3                        0                              0   \n",
       "4                        0                              0   \n",
       "\n",
       "   perhe- ja peruspalveluministeri  puolustusministeri  pääministeri  \\\n",
       "0                                0                   0             0   \n",
       "1                                0                   0             0   \n",
       "2                                0                   0             0   \n",
       "3                                1                   0             0   \n",
       "4                                0                   0             0   \n",
       "\n",
       "   sisäministeri  sosiaali- ja terveysministeri  \\\n",
       "0              0                              0   \n",
       "1              0                              1   \n",
       "2              0                              0   \n",
       "3              0                              0   \n",
       "4              0                              0   \n",
       "\n",
       "   ulkomaankauppa- ja kehitysministeri  ulkoministeri  valtiovarainministeri  \n",
       "0                                    0              0                      1  \n",
       "1                                    0              0                      0  \n",
       "2                                    0              0                      0  \n",
       "3                                    0              0                      0  \n",
       "4                                    0              0                      0  "
      ]
     },
     "execution_count": 11,
     "metadata": {},
     "output_type": "execute_result"
    }
   ],
   "source": [
    "df_train.head()"
   ]
  },
  {
   "cell_type": "code",
   "execution_count": 12,
   "metadata": {},
   "outputs": [],
   "source": [
    "df_train=df_train.drop(columns=('label'))\n",
    "df_dev=df_dev.drop(columns=('label'))"
   ]
  },
  {
   "cell_type": "code",
   "execution_count": 13,
   "metadata": {},
   "outputs": [],
   "source": [
    "df_train.reset_index(drop=True, inplace=True)\n",
    "df_dev.reset_index(drop=True, inplace=True)"
   ]
  },
  {
   "cell_type": "code",
   "execution_count": 14,
   "metadata": {},
   "outputs": [
    {
     "data": {
      "text/html": [
       "<div>\n",
       "<style scoped>\n",
       "    .dataframe tbody tr th:only-of-type {\n",
       "        vertical-align: middle;\n",
       "    }\n",
       "\n",
       "    .dataframe tbody tr th {\n",
       "        vertical-align: top;\n",
       "    }\n",
       "\n",
       "    .dataframe thead th {\n",
       "        text-align: right;\n",
       "    }\n",
       "</style>\n",
       "<table border=\"1\" class=\"dataframe\">\n",
       "  <thead>\n",
       "    <tr style=\"text-align: right;\">\n",
       "      <th></th>\n",
       "      <th>text</th>\n",
       "      <th>elinkeinoministeri</th>\n",
       "      <th>eurooppa-, kulttuuri- ja urheiluministeri</th>\n",
       "      <th>kunta- ja uudistusministeri</th>\n",
       "      <th>liikenne- ja viestintäministeri</th>\n",
       "      <th>maatalous- ja ympäristöministeri</th>\n",
       "      <th>oikeus- ja työministeri</th>\n",
       "      <th>opetus- ja kulttuuriministeri</th>\n",
       "      <th>perhe- ja peruspalveluministeri</th>\n",
       "      <th>puolustusministeri</th>\n",
       "      <th>pääministeri</th>\n",
       "      <th>sisäministeri</th>\n",
       "      <th>sosiaali- ja terveysministeri</th>\n",
       "      <th>ulkomaankauppa- ja kehitysministeri</th>\n",
       "      <th>ulkoministeri</th>\n",
       "      <th>valtiovarainministeri</th>\n",
       "    </tr>\n",
       "  </thead>\n",
       "  <tbody>\n",
       "    <tr>\n",
       "      <th>0</th>\n",
       "      <td>Nykyisessä käytännössä voi siten syntyä tilant...</td>\n",
       "      <td>0</td>\n",
       "      <td>0</td>\n",
       "      <td>0</td>\n",
       "      <td>0</td>\n",
       "      <td>0</td>\n",
       "      <td>0</td>\n",
       "      <td>0</td>\n",
       "      <td>0</td>\n",
       "      <td>0</td>\n",
       "      <td>0</td>\n",
       "      <td>0</td>\n",
       "      <td>0</td>\n",
       "      <td>0</td>\n",
       "      <td>0</td>\n",
       "      <td>1</td>\n",
       "    </tr>\n",
       "    <tr>\n",
       "      <th>1</th>\n",
       "      <td>Lisäksi korkein hallinto-oikeus katsoi , että ...</td>\n",
       "      <td>0</td>\n",
       "      <td>0</td>\n",
       "      <td>0</td>\n",
       "      <td>0</td>\n",
       "      <td>0</td>\n",
       "      <td>0</td>\n",
       "      <td>0</td>\n",
       "      <td>0</td>\n",
       "      <td>0</td>\n",
       "      <td>0</td>\n",
       "      <td>0</td>\n",
       "      <td>1</td>\n",
       "      <td>0</td>\n",
       "      <td>0</td>\n",
       "      <td>0</td>\n",
       "    </tr>\n",
       "    <tr>\n",
       "      <th>2</th>\n",
       "      <td>Toissijaisuuden arviointi jää viime kädessä tu...</td>\n",
       "      <td>0</td>\n",
       "      <td>0</td>\n",
       "      <td>0</td>\n",
       "      <td>1</td>\n",
       "      <td>0</td>\n",
       "      <td>0</td>\n",
       "      <td>0</td>\n",
       "      <td>0</td>\n",
       "      <td>0</td>\n",
       "      <td>0</td>\n",
       "      <td>0</td>\n",
       "      <td>0</td>\n",
       "      <td>0</td>\n",
       "      <td>0</td>\n",
       "      <td>0</td>\n",
       "    </tr>\n",
       "    <tr>\n",
       "      <th>3</th>\n",
       "      <td>Kiire tai sen tunne usein kasvavat .</td>\n",
       "      <td>0</td>\n",
       "      <td>0</td>\n",
       "      <td>0</td>\n",
       "      <td>0</td>\n",
       "      <td>0</td>\n",
       "      <td>0</td>\n",
       "      <td>0</td>\n",
       "      <td>1</td>\n",
       "      <td>0</td>\n",
       "      <td>0</td>\n",
       "      <td>0</td>\n",
       "      <td>0</td>\n",
       "      <td>0</td>\n",
       "      <td>0</td>\n",
       "      <td>0</td>\n",
       "    </tr>\n",
       "    <tr>\n",
       "      <th>4</th>\n",
       "      <td>Vähittäiskaupat voivat myös perustuslain turva...</td>\n",
       "      <td>0</td>\n",
       "      <td>0</td>\n",
       "      <td>0</td>\n",
       "      <td>0</td>\n",
       "      <td>1</td>\n",
       "      <td>0</td>\n",
       "      <td>0</td>\n",
       "      <td>0</td>\n",
       "      <td>0</td>\n",
       "      <td>0</td>\n",
       "      <td>0</td>\n",
       "      <td>0</td>\n",
       "      <td>0</td>\n",
       "      <td>0</td>\n",
       "      <td>0</td>\n",
       "    </tr>\n",
       "  </tbody>\n",
       "</table>\n",
       "</div>"
      ],
      "text/plain": [
       "                                                text  elinkeinoministeri  \\\n",
       "0  Nykyisessä käytännössä voi siten syntyä tilant...                   0   \n",
       "1  Lisäksi korkein hallinto-oikeus katsoi , että ...                   0   \n",
       "2  Toissijaisuuden arviointi jää viime kädessä tu...                   0   \n",
       "3               Kiire tai sen tunne usein kasvavat .                   0   \n",
       "4  Vähittäiskaupat voivat myös perustuslain turva...                   0   \n",
       "\n",
       "   eurooppa-, kulttuuri- ja urheiluministeri  kunta- ja uudistusministeri  \\\n",
       "0                                          0                            0   \n",
       "1                                          0                            0   \n",
       "2                                          0                            0   \n",
       "3                                          0                            0   \n",
       "4                                          0                            0   \n",
       "\n",
       "   liikenne- ja viestintäministeri  maatalous- ja ympäristöministeri  \\\n",
       "0                                0                                 0   \n",
       "1                                0                                 0   \n",
       "2                                1                                 0   \n",
       "3                                0                                 0   \n",
       "4                                0                                 1   \n",
       "\n",
       "   oikeus- ja työministeri  opetus- ja kulttuuriministeri  \\\n",
       "0                        0                              0   \n",
       "1                        0                              0   \n",
       "2                        0                              0   \n",
       "3                        0                              0   \n",
       "4                        0                              0   \n",
       "\n",
       "   perhe- ja peruspalveluministeri  puolustusministeri  pääministeri  \\\n",
       "0                                0                   0             0   \n",
       "1                                0                   0             0   \n",
       "2                                0                   0             0   \n",
       "3                                1                   0             0   \n",
       "4                                0                   0             0   \n",
       "\n",
       "   sisäministeri  sosiaali- ja terveysministeri  \\\n",
       "0              0                              0   \n",
       "1              0                              1   \n",
       "2              0                              0   \n",
       "3              0                              0   \n",
       "4              0                              0   \n",
       "\n",
       "   ulkomaankauppa- ja kehitysministeri  ulkoministeri  valtiovarainministeri  \n",
       "0                                    0              0                      1  \n",
       "1                                    0              0                      0  \n",
       "2                                    0              0                      0  \n",
       "3                                    0              0                      0  \n",
       "4                                    0              0                      0  "
      ]
     },
     "execution_count": 14,
     "metadata": {},
     "output_type": "execute_result"
    }
   ],
   "source": [
    "df_train.head()"
   ]
  },
  {
   "cell_type": "code",
   "execution_count": 15,
   "metadata": {},
   "outputs": [],
   "source": [
    "label_columns = [i for i in df_train.columns[1:]]\n"
   ]
  },
  {
   "cell_type": "code",
   "execution_count": 16,
   "metadata": {},
   "outputs": [],
   "source": [
    "df_train.to_csv('train.csv', index=False, sep = '\\t')\n",
    "df_dev.to_csv('dev.csv', index=False, sep = '\\t')\n",
    "df_test.to_csv('test.csv', index=False, sep = '\\t')"
   ]
  },
  {
   "cell_type": "code",
   "execution_count": 17,
   "metadata": {},
   "outputs": [
    {
     "data": {
      "text/html": [],
      "text/plain": [
       "<IPython.core.display.HTML object>"
      ]
     },
     "metadata": {},
     "output_type": "display_data"
    },
    {
     "data": {
      "text/html": [],
      "text/plain": [
       "<IPython.core.display.HTML object>"
      ]
     },
     "metadata": {},
     "output_type": "display_data"
    }
   ],
   "source": [
    "(x_train, y_train), (x_test, y_test), preproc = text.texts_from_csv('train.csv', \n",
    "                   text_column='text',\n",
    "                   label_columns = label_columns,\n",
    "                   val_filepath='dev.csv',\n",
    "                   max_features=50000, maxlen=75, \n",
    "                   preprocess_mode='bert', \n",
    "                   lang=None,      # auto-detected\n",
    "                   sep='\\t', random_state=42,       \n",
    "                   verbose=0)"
   ]
  },
  {
   "cell_type": "code",
   "execution_count": 18,
   "metadata": {},
   "outputs": [
    {
     "name": "stdout",
     "output_type": "stream",
     "text": [
      "Is Multi-Label? False\n",
      "maxlen is 75\n",
      "done.\n"
     ]
    }
   ],
   "source": [
    "model = text.text_classifier('bert', (x_train, y_train) , preproc=preproc)\n",
    "learner = ktrain.get_learner(model, \n",
    "                             train_data=(x_train, y_train), \n",
    "                             val_data=(x_test, y_test), \n",
    "                             batch_size=8)"
   ]
  },
  {
   "cell_type": "code",
   "execution_count": 19,
   "metadata": {},
   "outputs": [],
   "source": [
    "#Free up memory\n",
    "df_train = None\n",
    "df_dev = None\n",
    "df_test = None"
   ]
  },
  {
   "cell_type": "code",
   "execution_count": 20,
   "metadata": {},
   "outputs": [
    {
     "name": "stdout",
     "output_type": "stream",
     "text": [
      "simulating training for different learning rates... this may take a few moments...\n",
      "Train on 49693 samples\n",
      "Epoch 1/1024\n",
      " 9448/49693 [====>.........................] - ETA: 41:13 - loss: 2.6394 - accuracy: 0.2650\n",
      "\n",
      "done.\n",
      "Please invoke the Learner.lr_plot() method to visually inspect the loss plot to help identify the maximal learning rate associated with falling loss.\n"
     ]
    },
    {
     "data": {
      "image/png": "[encoded data removed]",
      "text/plain": [
       "<Figure size 432x288 with 1 Axes>"
      ]
     },
     "metadata": {
      "needs_background": "light"
     },
     "output_type": "display_data"
    }
   ],
   "source": [
    "learner.lr_find()\n",
    "learner.lr_plot()"
   ]
  },
  {
   "cell_type": "code",
   "execution_count": 21,
   "metadata": {},
   "outputs": [
    {
     "name": "stdout",
     "output_type": "stream",
     "text": [
      "\n",
      "\n",
      "begin training using onecycle policy with max lr of 0.0001...\n",
      "Train on 49693 samples, validate on 2000 samples\n",
      "49693/49693 [==============================] - 3177s 64ms/sample - loss: 1.2047 - accuracy: 0.6370 - val_loss: 0.9244 - val_accuracy: 0.7070\n"
     ]
    },
    {
     "data": {
      "text/plain": [
       "<tensorflow.python.keras.callbacks.History at 0x214a53a3748>"
      ]
     },
     "execution_count": 21,
     "metadata": {},
     "output_type": "execute_result"
    }
   ],
   "source": [
    "learner.fit_onecycle(10e-5, 1)"
   ]
  },
  {
   "cell_type": "code",
   "execution_count": 22,
   "metadata": {},
   "outputs": [
    {
     "name": "stdout",
     "output_type": "stream",
     "text": [
      "                                           precision    recall  f1-score   support\n",
      "\n",
      "                       elinkeinoministeri       0.56      0.55      0.55        82\n",
      "eurooppa-, kulttuuri- ja urheiluministeri       0.71      0.53      0.61        32\n",
      "              kunta- ja uudistusministeri       0.62      0.45      0.52        40\n",
      "          liikenne- ja viestintäministeri       0.75      0.77      0.76       141\n",
      "         maatalous- ja ympäristöministeri       0.79      0.82      0.80       288\n",
      "                  oikeus- ja työministeri       0.55      0.67      0.60       224\n",
      "            opetus- ja kulttuuriministeri       0.79      0.80      0.79       211\n",
      "          perhe- ja peruspalveluministeri       0.71      0.70      0.70       333\n",
      "                       puolustusministeri       0.59      0.62      0.60        21\n",
      "                             pääministeri       0.62      0.39      0.48        38\n",
      "                            sisäministeri       0.74      0.81      0.77       246\n",
      "            sosiaali- ja terveysministeri       0.72      0.58      0.65       173\n",
      "      ulkomaankauppa- ja kehitysministeri       0.69      0.37      0.48        30\n",
      "                            ulkoministeri       0.77      0.54      0.63        37\n",
      "                    valtiovarainministeri       0.74      0.76      0.75       104\n",
      "\n",
      "                                 accuracy                           0.71      2000\n",
      "                                macro avg       0.69      0.62      0.65      2000\n",
      "                             weighted avg       0.71      0.71      0.70      2000\n",
      "\n"
     ]
    },
    {
     "data": {
      "text/plain": [
       "array([[ 45,   0,   0,   8,   8,   4,   3,   1,   1,   4,   2,   0,   0,\n",
       "          0,   6],\n",
       "       [  0,  17,   2,   0,   2,   1,   4,   4,   0,   0,   0,   1,   0,\n",
       "          0,   1],\n",
       "       [  0,   0,  18,   4,   0,   4,   3,   6,   2,   0,   1,   0,   0,\n",
       "          0,   2],\n",
       "       [  2,   0,   0, 109,  10,  10,   0,   2,   1,   1,   3,   0,   0,\n",
       "          0,   3],\n",
       "       [ 15,   0,   1,   5, 236,   8,   1,  11,   1,   0,   4,   1,   2,\n",
       "          0,   3],\n",
       "       [  4,   2,   4,   3,   6, 150,   9,  12,   2,   1,  19,  10,   0,\n",
       "          0,   2],\n",
       "       [  1,   2,   0,   1,   4,  12, 168,  13,   0,   1,   8,   0,   1,\n",
       "          0,   0],\n",
       "       [  3,   2,   2,   2,   8,  31,  15, 233,   0,   0,  13,  23,   0,\n",
       "          0,   1],\n",
       "       [  1,   0,   0,   1,   2,   0,   0,   1,  13,   0,   2,   0,   0,\n",
       "          1,   0],\n",
       "       [  3,   0,   0,   3,   4,   3,   1,   0,   0,  15,   3,   2,   0,\n",
       "          1,   3],\n",
       "       [  0,   0,   1,   3,   8,  19,   4,   9,   1,   0, 199,   0,   0,\n",
       "          0,   2],\n",
       "       [  0,   0,   0,   2,   3,  22,   2,  34,   1,   0,   4, 101,   0,\n",
       "          0,   4],\n",
       "       [  4,   0,   0,   0,   3,   2,   2,   2,   0,   0,   2,   0,  11,\n",
       "          3,   1],\n",
       "       [  0,   0,   0,   0,   4,   3,   1,   0,   0,   1,   7,   0,   1,\n",
       "         20,   0],\n",
       "       [  3,   1,   1,   4,   1,   6,   0,   1,   0,   1,   3,   2,   1,\n",
       "          1,  79]], dtype=int64)"
      ]
     },
     "execution_count": 22,
     "metadata": {},
     "output_type": "execute_result"
    }
   ],
   "source": [
    "learner.validate(val_data=(x_test, y_test), class_names=label_columns)"
   ]
  },
  {
   "cell_type": "code",
   "execution_count": 23,
   "metadata": {},
   "outputs": [],
   "source": [
    "predictor = ktrain.get_predictor(learner.model, preproc)"
   ]
  },
  {
   "cell_type": "code",
   "execution_count": 24,
   "metadata": {},
   "outputs": [],
   "source": [
    "predictor.save('eduskunta_vkk_bert')"
   ]
  },
  {
   "cell_type": "code",
   "execution_count": 25,
   "metadata": {},
   "outputs": [],
   "source": [
    "df_test = pd.read_csv('../../data/eduskunta-vkk/test.csv')"
   ]
  },
  {
   "cell_type": "code",
   "execution_count": 28,
   "metadata": {},
   "outputs": [
    {
     "data": {
      "text/html": [],
      "text/plain": [
       "<IPython.core.display.HTML object>"
      ]
     },
     "metadata": {},
     "output_type": "display_data"
    }
   ],
   "source": [
    "df_test['prediction'] = predictor.predict(df_test.sentence.values)"
   ]
  },
  {
   "cell_type": "code",
   "execution_count": 29,
   "metadata": {},
   "outputs": [
    {
     "data": {
      "text/html": [
       "<div>\n",
       "<style scoped>\n",
       "    .dataframe tbody tr th:only-of-type {\n",
       "        vertical-align: middle;\n",
       "    }\n",
       "\n",
       "    .dataframe tbody tr th {\n",
       "        vertical-align: top;\n",
       "    }\n",
       "\n",
       "    .dataframe thead th {\n",
       "        text-align: right;\n",
       "    }\n",
       "</style>\n",
       "<table border=\"1\" class=\"dataframe\">\n",
       "  <thead>\n",
       "    <tr style=\"text-align: right;\">\n",
       "      <th></th>\n",
       "      <th>sentence</th>\n",
       "      <th>ministry</th>\n",
       "      <th>prediction</th>\n",
       "    </tr>\n",
       "  </thead>\n",
       "  <tbody>\n",
       "    <tr>\n",
       "      <th>0</th>\n",
       "      <td>Niistä pitkäaikaissairaista ja vammaisista hen...</td>\n",
       "      <td>oikeus- ja työministeri</td>\n",
       "      <td>sosiaali- ja terveysministeri</td>\n",
       "    </tr>\n",
       "    <tr>\n",
       "      <th>1</th>\n",
       "      <td>Turvapaikkapuhuttelussa hakijan perusteet selv...</td>\n",
       "      <td>sisäministeri</td>\n",
       "      <td>sisäministeri</td>\n",
       "    </tr>\n",
       "    <tr>\n",
       "      <th>2</th>\n",
       "      <td>Tästä on myös esimerkiksi kuluttajariitalautak...</td>\n",
       "      <td>oikeus- ja työministeri</td>\n",
       "      <td>oikeus- ja työministeri</td>\n",
       "    </tr>\n",
       "    <tr>\n",
       "      <th>3</th>\n",
       "      <td>Tietojen perusteella on havaittu että kehittäm...</td>\n",
       "      <td>liikenne- ja viestintäministeri</td>\n",
       "      <td>liikenne- ja viestintäministeri</td>\n",
       "    </tr>\n",
       "    <tr>\n",
       "      <th>4</th>\n",
       "      <td>Suomen Lontoon suurlähetystö seuraa tilannetta...</td>\n",
       "      <td>sisäministeri</td>\n",
       "      <td>ulkoministeri</td>\n",
       "    </tr>\n",
       "  </tbody>\n",
       "</table>\n",
       "</div>"
      ],
      "text/plain": [
       "                                            sentence  \\\n",
       "0  Niistä pitkäaikaissairaista ja vammaisista hen...   \n",
       "1  Turvapaikkapuhuttelussa hakijan perusteet selv...   \n",
       "2  Tästä on myös esimerkiksi kuluttajariitalautak...   \n",
       "3  Tietojen perusteella on havaittu että kehittäm...   \n",
       "4  Suomen Lontoon suurlähetystö seuraa tilannetta...   \n",
       "\n",
       "                          ministry                       prediction  \n",
       "0          oikeus- ja työministeri    sosiaali- ja terveysministeri  \n",
       "1                    sisäministeri                    sisäministeri  \n",
       "2          oikeus- ja työministeri          oikeus- ja työministeri  \n",
       "3  liikenne- ja viestintäministeri  liikenne- ja viestintäministeri  \n",
       "4                    sisäministeri                    ulkoministeri  "
      ]
     },
     "execution_count": 29,
     "metadata": {},
     "output_type": "execute_result"
    }
   ],
   "source": [
    "df_test.head()"
   ]
  },
  {
   "cell_type": "code",
   "execution_count": 31,
   "metadata": {},
   "outputs": [],
   "source": [
    "from sklearn.metrics import classification_report"
   ]
  },
  {
   "cell_type": "code",
   "execution_count": 32,
   "metadata": {},
   "outputs": [],
   "source": [
    "target_names = label_columns"
   ]
  },
  {
   "cell_type": "code",
   "execution_count": 33,
   "metadata": {},
   "outputs": [
    {
     "name": "stdout",
     "output_type": "stream",
     "text": [
      "                                           precision    recall  f1-score   support\n",
      "\n",
      "                       elinkeinoministeri       0.54      0.54      0.54        85\n",
      "eurooppa-, kulttuuri- ja urheiluministeri       0.55      0.60      0.57        20\n",
      "              kunta- ja uudistusministeri       0.44      0.47      0.45        32\n",
      "          liikenne- ja viestintäministeri       0.76      0.68      0.72       155\n",
      "         maatalous- ja ympäristöministeri       0.76      0.81      0.78       305\n",
      "                  oikeus- ja työministeri       0.64      0.74      0.68       257\n",
      "            opetus- ja kulttuuriministeri       0.82      0.79      0.81       224\n",
      "          perhe- ja peruspalveluministeri       0.74      0.75      0.74       330\n",
      "                       puolustusministeri       0.64      0.56      0.60        25\n",
      "                             pääministeri       0.58      0.37      0.45        38\n",
      "                            sisäministeri       0.72      0.78      0.75       232\n",
      "            sosiaali- ja terveysministeri       0.68      0.62      0.64       128\n",
      "      ulkomaankauppa- ja kehitysministeri       0.80      0.57      0.67        21\n",
      "                            ulkoministeri       0.74      0.59      0.66        39\n",
      "                    valtiovarainministeri       0.81      0.64      0.72       109\n",
      "\n",
      "                                 accuracy                           0.72      2000\n",
      "                                macro avg       0.68      0.63      0.65      2000\n",
      "                             weighted avg       0.72      0.72      0.72      2000\n",
      "\n"
     ]
    }
   ],
   "source": [
    "print(classification_report(df_test.ministry, df_test.prediction, target_names=target_names))"
   ]
  },
  {
   "cell_type": "code",
   "execution_count": null,
   "metadata": {},
   "outputs": [],
   "source": []
  }
 ],
 "metadata": {
  "kernelspec": {
   "display_name": "Python [conda env:FinBertTrainEnv] *",
   "language": "python",
   "name": "conda-env-FinBertTrainEnv-py"
  },
  "language_info": {
   "codemirror_mode": {
    "name": "ipython",
    "version": 3
   },
   "file_extension": ".py",
   "mimetype": "text/x-python",
   "name": "python",
   "nbconvert_exporter": "python",
   "pygments_lexer": "ipython3",
   "version": "3.7.6"
  }
 },
 "nbformat": 4,
 "nbformat_minor": 2
}
